{
 "cells": [
  {
   "cell_type": "code",
   "execution_count": 11,
   "id": "d00f0456",
   "metadata": {},
   "outputs": [],
   "source": [
    "import numpy as np"
   ]
  },
  {
   "cell_type": "markdown",
   "id": "b49773fd",
   "metadata": {},
   "source": [
    "Создайте массив из списка, , состоящего из чисел от 0 до 9, при помощи функции array() из модуля numpy"
   ]
  },
  {
   "cell_type": "code",
   "execution_count": 12,
   "id": "a949eb8d",
   "metadata": {},
   "outputs": [
    {
     "data": {
      "text/plain": [
       "array([1, 2, 3, 4, 5, 6, 7, 8, 9])"
      ]
     },
     "execution_count": 12,
     "metadata": {},
     "output_type": "execute_result"
    }
   ],
   "source": [
    "np.array([1,2,3,4,5,6,7,8,9])"
   ]
  },
  {
   "cell_type": "markdown",
   "id": "5168e00a",
   "metadata": {},
   "source": [
    "Создайте массив , состоящий из нечётных чисел от 1 до 19, при помощи функции arange() из модуля numpy"
   ]
  },
  {
   "cell_type": "code",
   "execution_count": 5,
   "id": "f75d3923",
   "metadata": {},
   "outputs": [
    {
     "data": {
      "text/plain": [
       "array([ 1,  3,  5,  7,  9, 11, 13, 15, 17, 19])"
      ]
     },
     "execution_count": 5,
     "metadata": {},
     "output_type": "execute_result"
    }
   ],
   "source": [
    "np.arange(1,20,2)"
   ]
  },
  {
   "cell_type": "markdown",
   "id": "c663b8c5",
   "metadata": {},
   "source": [
    "Создайте массив , состоящий из двадцати нулей"
   ]
  },
  {
   "cell_type": "code",
   "execution_count": 13,
   "id": "cadd6647",
   "metadata": {},
   "outputs": [
    {
     "data": {
      "text/plain": [
       "array([0., 0., 0., 0., 0., 0., 0., 0., 0., 0., 0., 0., 0., 0., 0., 0., 0.,\n",
       "       0., 0., 0.])"
      ]
     },
     "execution_count": 13,
     "metadata": {},
     "output_type": "execute_result"
    }
   ],
   "source": [
    "np.zeros(20)"
   ]
  },
  {
   "cell_type": "markdown",
   "id": "ac574693",
   "metadata": {},
   "source": [
    "Создайте двумерный массив , состоящий из двадцати единиц, в котором 5 строк и 4 столбца"
   ]
  },
  {
   "cell_type": "code",
   "execution_count": 14,
   "id": "01f17753",
   "metadata": {},
   "outputs": [
    {
     "data": {
      "text/plain": [
       "array([[1., 1., 1., 1.],\n",
       "       [1., 1., 1., 1.],\n",
       "       [1., 1., 1., 1.],\n",
       "       [1., 1., 1., 1.],\n",
       "       [1., 1., 1., 1.]])"
      ]
     },
     "execution_count": 14,
     "metadata": {},
     "output_type": "execute_result"
    }
   ],
   "source": [
    "np.ones((5,4))"
   ]
  },
  {
   "cell_type": "markdown",
   "id": "f2f80182",
   "metadata": {},
   "source": [
    "Создайте массив , состоящий из пяти равномерно распределённых чисел от 3 до 7"
   ]
  },
  {
   "cell_type": "code",
   "execution_count": 15,
   "id": "bb18b1ad",
   "metadata": {},
   "outputs": [
    {
     "data": {
      "text/plain": [
       "array([3.        , 3.33333333, 3.66666667, 4.        , 4.33333333,\n",
       "       4.66666667, 5.        ])"
      ]
     },
     "execution_count": 15,
     "metadata": {},
     "output_type": "execute_result"
    }
   ],
   "source": [
    "np.linspace(3,5,7)"
   ]
  },
  {
   "cell_type": "markdown",
   "id": "e50cb146",
   "metadata": {},
   "source": [
    "Создайте двумерный массив , состоящий из 9 равномерно распределённых чисел от 3 до 7"
   ]
  },
  {
   "cell_type": "code",
   "execution_count": 21,
   "id": "5ba61c56",
   "metadata": {},
   "outputs": [
    {
     "data": {
      "text/plain": [
       "array([3. , 3.5, 4. , 4.5, 5. , 5.5, 6. , 6.5, 7. ])"
      ]
     },
     "execution_count": 21,
     "metadata": {},
     "output_type": "execute_result"
    }
   ],
   "source": [
    "np.linspace(3,7,9)"
   ]
  },
  {
   "cell_type": "markdown",
   "id": "7b456744",
   "metadata": {},
   "source": [
    "Создайте массив , состоящий из 10 случайных целых чисел из диапазона от 1 до 100, присвойте его максимальное значение переменной max_number и выведите значение этой переменной при помощи функции print()"
   ]
  },
  {
   "cell_type": "code",
   "execution_count": 31,
   "id": "0cf43c9a",
   "metadata": {},
   "outputs": [
    {
     "data": {
      "text/plain": [
       "array([42, 61, 98, 93, 50, 67, 46, 26, 72, 34])"
      ]
     },
     "execution_count": 31,
     "metadata": {},
     "output_type": "execute_result"
    }
   ],
   "source": [
    "rand_arr = np.random.randint(1, 100, 10)\n",
    "rand_arr"
   ]
  },
  {
   "cell_type": "code",
   "execution_count": 32,
   "id": "09df347e",
   "metadata": {},
   "outputs": [],
   "source": [
    "max_number = rand_arr.max()"
   ]
  },
  {
   "cell_type": "code",
   "execution_count": 33,
   "id": "6fd5c9df",
   "metadata": {},
   "outputs": [
    {
     "name": "stdout",
     "output_type": "stream",
     "text": [
      "98\n"
     ]
    }
   ],
   "source": [
    "print(max_number)"
   ]
  },
  {
   "cell_type": "code",
   "execution_count": null,
   "id": "b084cd29",
   "metadata": {},
   "outputs": [],
   "source": []
  }
 ],
 "metadata": {
  "kernelspec": {
   "display_name": "Python 3 (ipykernel)",
   "language": "python",
   "name": "python3"
  },
  "language_info": {
   "codemirror_mode": {
    "name": "ipython",
    "version": 3
   },
   "file_extension": ".py",
   "mimetype": "text/x-python",
   "name": "python",
   "nbconvert_exporter": "python",
   "pygments_lexer": "ipython3",
   "version": "3.9.13"
  }
 },
 "nbformat": 4,
 "nbformat_minor": 5
}
