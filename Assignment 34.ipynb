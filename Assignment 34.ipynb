{
 "cells": [
  {
   "cell_type": "code",
   "execution_count": 1,
   "id": "a7d3d041",
   "metadata": {},
   "outputs": [],
   "source": [
    "import numpy as np"
   ]
  },
  {
   "cell_type": "code",
   "execution_count": 10,
   "id": "a6acfaac",
   "metadata": {},
   "outputs": [
    {
     "name": "stdout",
     "output_type": "stream",
     "text": [
      "[13 18  7 11 16 18  7 19 17 18] [18  7 11 16 18]\n"
     ]
    }
   ],
   "source": [
    "arr = np.random.randint(1, 21, 10)\n",
    "new_arr = arr[1:6]\n",
    "print(arr, new_arr)\n"
   ]
  },
  {
   "cell_type": "code",
   "execution_count": 9,
   "id": "ba1096c5",
   "metadata": {},
   "outputs": [
    {
     "name": "stdout",
     "output_type": "stream",
     "text": [
      "[13  9 20  7 13 19  7 16  2  1] [20  7 13 19  7 16  2  1]\n",
      "[20  7 13 19  7 16  2  1]\n"
     ]
    }
   ],
   "source": [
    "arr = np.random.randint(0, 21, 10)\n",
    "new_arr = arr[2:]\n",
    "print(arr, new_arr)"
   ]
  },
  {
   "cell_type": "code",
   "execution_count": 8,
   "id": "ca1c8e3f",
   "metadata": {},
   "outputs": [
    {
     "name": "stdout",
     "output_type": "stream",
     "text": [
      "[[ 8  3  7]\n",
      " [11 11  9]\n",
      " [ 3  3 10]\n",
      " [10  9  4]] [[11 11]\n",
      " [ 3  3]]\n"
     ]
    }
   ],
   "source": [
    "arr = np.random.randint(3, 12, 12).reshape(4, 3)\n",
    "new_arr = arr[1:3, :2]\n",
    "print(arr, new_arr)"
   ]
  },
  {
   "cell_type": "code",
   "execution_count": 7,
   "id": "d6fab7e3",
   "metadata": {},
   "outputs": [
    {
     "name": "stdout",
     "output_type": "stream",
     "text": [
      "[[4 5 7 6 9 9]\n",
      " [0 6 5 4 3 9]\n",
      " [3 9 3 3 2 2]\n",
      " [7 1 2 5 0 4]] [4 5 7 6 9 9 6 5 4 9 9 7 5 4]\n"
     ]
    }
   ],
   "source": [
    "arr = np.random.randint(0, 10, 24).reshape(4, 6)\n",
    "new_arr = arr[arr > 3]\n",
    "print(arr, new_arr)"
   ]
  },
  {
   "cell_type": "code",
   "execution_count": null,
   "id": "c950e3b6",
   "metadata": {},
   "outputs": [],
   "source": []
  }
 ],
 "metadata": {
  "kernelspec": {
   "display_name": "Python 3 (ipykernel)",
   "language": "python",
   "name": "python3"
  },
  "language_info": {
   "codemirror_mode": {
    "name": "ipython",
    "version": 3
   },
   "file_extension": ".py",
   "mimetype": "text/x-python",
   "name": "python",
   "nbconvert_exporter": "python",
   "pygments_lexer": "ipython3",
   "version": "3.9.13"
  }
 },
 "nbformat": 4,
 "nbformat_minor": 5
}
